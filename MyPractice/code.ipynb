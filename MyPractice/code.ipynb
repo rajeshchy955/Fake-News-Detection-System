{
 "cells": [
  {
   "cell_type": "markdown",
   "metadata": {},
   "source": [
    "##Fake news detection"
   ]
  },
  {
   "cell_type": "code",
   "execution_count": 1,
   "metadata": {},
   "outputs": [],
   "source": [
    "##import library \n",
    "import pandas as pd\n",
    "import numpy as np\n",
    "import re\n",
    "import math\n",
    "from flask import jsonify\n",
    "import graphviz\n",
    "from nltk.corpus import stopwords\n",
    "from collections import Counter\n",
    "from scipy.sparse import csr_matrix\n",
    "from sklearn.preprocessing import normalize\n",
    "from nltk.stem import PorterStemmer, WordNetLemmatizer\n",
    "from sklearn.model_selection import train_test_split\n",
    "from sklearn.metrics import accuracy_score, confusion_matrix, classification_report\n",
    "import matplotlib.pyplot as plt\n",
    "from graphviz import Digraph\n",
    "from sklearn.tree import export_graphviz\n",
    "import pydot\n",
    "import os"
   ]
  },
  {
   "cell_type": "markdown",
   "metadata": {},
   "source": [
    "#Data Gathering"
   ]
  },
  {
   "cell_type": "code",
   "execution_count": 2,
   "metadata": {},
   "outputs": [
    {
     "data": {
      "text/html": [
       "<div>\n",
       "<style scoped>\n",
       "    .dataframe tbody tr th:only-of-type {\n",
       "        vertical-align: middle;\n",
       "    }\n",
       "\n",
       "    .dataframe tbody tr th {\n",
       "        vertical-align: top;\n",
       "    }\n",
       "\n",
       "    .dataframe thead th {\n",
       "        text-align: right;\n",
       "    }\n",
       "</style>\n",
       "<table border=\"1\" class=\"dataframe\">\n",
       "  <thead>\n",
       "    <tr style=\"text-align: right;\">\n",
       "      <th></th>\n",
       "      <th>title</th>\n",
       "      <th>text</th>\n",
       "      <th>subject</th>\n",
       "      <th>date</th>\n",
       "      <th>label</th>\n",
       "    </tr>\n",
       "  </thead>\n",
       "  <tbody>\n",
       "    <tr>\n",
       "      <th>0</th>\n",
       "      <td>North Korea says ICBM test used new launch veh...</td>\n",
       "      <td>SEOUL (Reuters) - North Korea said a new inter...</td>\n",
       "      <td>worldnews</td>\n",
       "      <td>29-Nov-17</td>\n",
       "      <td>TRUE</td>\n",
       "    </tr>\n",
       "    <tr>\n",
       "      <th>1</th>\n",
       "      <td>WATCH JUDGE ORDER PUNK WEARING “POLICE LIE” T-...</td>\n",
       "      <td>The hate for our law enforcement is at an all ...</td>\n",
       "      <td>politics</td>\n",
       "      <td>18-May-15</td>\n",
       "      <td>FAKE</td>\n",
       "    </tr>\n",
       "    <tr>\n",
       "      <th>2</th>\n",
       "      <td>Biden, Netanyahu discuss Iran, Islamic State, ...</td>\n",
       "      <td>WASHINGTON (Reuters) - U.S. Vice President Joe...</td>\n",
       "      <td>politicsNews</td>\n",
       "      <td>9-Mar-16</td>\n",
       "      <td>TRUE</td>\n",
       "    </tr>\n",
       "    <tr>\n",
       "      <th>3</th>\n",
       "      <td>Mansion where Obama to stay in Havana 'built t...</td>\n",
       "      <td>HAVANA (Reuters) - The mansion in Havana where...</td>\n",
       "      <td>politicsNews</td>\n",
       "      <td>18-Mar-16</td>\n",
       "      <td>TRUE</td>\n",
       "    </tr>\n",
       "    <tr>\n",
       "      <th>4</th>\n",
       "      <td>ILLEGAL ALIENS WHO LIED TO COURT, USED FAKE SS...</td>\n",
       "      <td>You can t make this up! Why are these criminal...</td>\n",
       "      <td>left-news</td>\n",
       "      <td>12-Jun-15</td>\n",
       "      <td>FAKE</td>\n",
       "    </tr>\n",
       "  </tbody>\n",
       "</table>\n",
       "</div>"
      ],
      "text/plain": [
       "                                               title  \\\n",
       "0  North Korea says ICBM test used new launch veh...   \n",
       "1  WATCH JUDGE ORDER PUNK WEARING “POLICE LIE” T-...   \n",
       "2  Biden, Netanyahu discuss Iran, Islamic State, ...   \n",
       "3  Mansion where Obama to stay in Havana 'built t...   \n",
       "4  ILLEGAL ALIENS WHO LIED TO COURT, USED FAKE SS...   \n",
       "\n",
       "                                                text       subject       date  \\\n",
       "0  SEOUL (Reuters) - North Korea said a new inter...     worldnews  29-Nov-17   \n",
       "1  The hate for our law enforcement is at an all ...      politics  18-May-15   \n",
       "2  WASHINGTON (Reuters) - U.S. Vice President Joe...  politicsNews   9-Mar-16   \n",
       "3  HAVANA (Reuters) - The mansion in Havana where...  politicsNews  18-Mar-16   \n",
       "4  You can t make this up! Why are these criminal...     left-news  12-Jun-15   \n",
       "\n",
       "  label  \n",
       "0  TRUE  \n",
       "1  FAKE  \n",
       "2  TRUE  \n",
       "3  TRUE  \n",
       "4  FAKE  "
      ]
     },
     "execution_count": 2,
     "metadata": {},
     "output_type": "execute_result"
    }
   ],
   "source": [
    "df = pd.read_csv(\"news.csv\")\n",
    "df.head()"
   ]
  },
  {
   "cell_type": "markdown",
   "metadata": {},
   "source": [
    "#Data Anallysis"
   ]
  },
  {
   "cell_type": "code",
   "execution_count": 3,
   "metadata": {},
   "outputs": [
    {
     "name": "stdout",
     "output_type": "stream",
     "text": [
      "<class 'pandas.core.frame.DataFrame'>\n",
      "RangeIndex: 4442 entries, 0 to 4441\n",
      "Data columns (total 5 columns):\n",
      " #   Column   Non-Null Count  Dtype \n",
      "---  ------   --------------  ----- \n",
      " 0   title    4442 non-null   object\n",
      " 1   text     4442 non-null   object\n",
      " 2   subject  4442 non-null   object\n",
      " 3   date     4442 non-null   object\n",
      " 4   label    4442 non-null   object\n",
      "dtypes: object(5)\n",
      "memory usage: 173.6+ KB\n"
     ]
    }
   ],
   "source": [
    "df.info()"
   ]
  },
  {
   "cell_type": "code",
   "execution_count": 4,
   "metadata": {},
   "outputs": [
    {
     "data": {
      "text/plain": [
       "label\n",
       "TRUE    3050\n",
       "FAKE    1392\n",
       "Name: count, dtype: int64"
      ]
     },
     "execution_count": 4,
     "metadata": {},
     "output_type": "execute_result"
    }
   ],
   "source": [
    "df['label'].value_counts()"
   ]
  },
  {
   "cell_type": "code",
   "execution_count": 5,
   "metadata": {},
   "outputs": [
    {
     "data": {
      "text/plain": [
       "(4442, 5)"
      ]
     },
     "execution_count": 5,
     "metadata": {},
     "output_type": "execute_result"
    }
   ],
   "source": [
    "df.shape"
   ]
  },
  {
   "cell_type": "code",
   "execution_count": 6,
   "metadata": {},
   "outputs": [
    {
     "data": {
      "text/plain": [
       "title      0\n",
       "text       0\n",
       "subject    0\n",
       "date       0\n",
       "label      0\n",
       "dtype: int64"
      ]
     },
     "execution_count": 6,
     "metadata": {},
     "output_type": "execute_result"
    }
   ],
   "source": [
    "df.isna().sum()"
   ]
  },
  {
   "cell_type": "code",
   "execution_count": 7,
   "metadata": {},
   "outputs": [],
   "source": [
    "df = df.dropna() #Handled Missing values by droping those rows"
   ]
  },
  {
   "cell_type": "code",
   "execution_count": 8,
   "metadata": {},
   "outputs": [
    {
     "data": {
      "text/plain": [
       "title      0\n",
       "text       0\n",
       "subject    0\n",
       "date       0\n",
       "label      0\n",
       "dtype: int64"
      ]
     },
     "execution_count": 8,
     "metadata": {},
     "output_type": "execute_result"
    }
   ],
   "source": [
    "df.isna().sum()"
   ]
  },
  {
   "cell_type": "code",
   "execution_count": 9,
   "metadata": {},
   "outputs": [
    {
     "data": {
      "text/plain": [
       "(4442, 5)"
      ]
     },
     "execution_count": 9,
     "metadata": {},
     "output_type": "execute_result"
    }
   ],
   "source": [
    "df.shape"
   ]
  },
  {
   "cell_type": "code",
   "execution_count": 10,
   "metadata": {},
   "outputs": [
    {
     "data": {
      "text/html": [
       "<div>\n",
       "<style scoped>\n",
       "    .dataframe tbody tr th:only-of-type {\n",
       "        vertical-align: middle;\n",
       "    }\n",
       "\n",
       "    .dataframe tbody tr th {\n",
       "        vertical-align: top;\n",
       "    }\n",
       "\n",
       "    .dataframe thead th {\n",
       "        text-align: right;\n",
       "    }\n",
       "</style>\n",
       "<table border=\"1\" class=\"dataframe\">\n",
       "  <thead>\n",
       "    <tr style=\"text-align: right;\">\n",
       "      <th></th>\n",
       "      <th>index</th>\n",
       "      <th>title</th>\n",
       "      <th>text</th>\n",
       "      <th>subject</th>\n",
       "      <th>date</th>\n",
       "      <th>label</th>\n",
       "    </tr>\n",
       "  </thead>\n",
       "  <tbody>\n",
       "    <tr>\n",
       "      <th>0</th>\n",
       "      <td>0</td>\n",
       "      <td>North Korea says ICBM test used new launch veh...</td>\n",
       "      <td>SEOUL (Reuters) - North Korea said a new inter...</td>\n",
       "      <td>worldnews</td>\n",
       "      <td>29-Nov-17</td>\n",
       "      <td>TRUE</td>\n",
       "    </tr>\n",
       "    <tr>\n",
       "      <th>1</th>\n",
       "      <td>1</td>\n",
       "      <td>WATCH JUDGE ORDER PUNK WEARING “POLICE LIE” T-...</td>\n",
       "      <td>The hate for our law enforcement is at an all ...</td>\n",
       "      <td>politics</td>\n",
       "      <td>18-May-15</td>\n",
       "      <td>FAKE</td>\n",
       "    </tr>\n",
       "    <tr>\n",
       "      <th>2</th>\n",
       "      <td>2</td>\n",
       "      <td>Biden, Netanyahu discuss Iran, Islamic State, ...</td>\n",
       "      <td>WASHINGTON (Reuters) - U.S. Vice President Joe...</td>\n",
       "      <td>politicsNews</td>\n",
       "      <td>9-Mar-16</td>\n",
       "      <td>TRUE</td>\n",
       "    </tr>\n",
       "    <tr>\n",
       "      <th>3</th>\n",
       "      <td>3</td>\n",
       "      <td>Mansion where Obama to stay in Havana 'built t...</td>\n",
       "      <td>HAVANA (Reuters) - The mansion in Havana where...</td>\n",
       "      <td>politicsNews</td>\n",
       "      <td>18-Mar-16</td>\n",
       "      <td>TRUE</td>\n",
       "    </tr>\n",
       "    <tr>\n",
       "      <th>4</th>\n",
       "      <td>4</td>\n",
       "      <td>ILLEGAL ALIENS WHO LIED TO COURT, USED FAKE SS...</td>\n",
       "      <td>You can t make this up! Why are these criminal...</td>\n",
       "      <td>left-news</td>\n",
       "      <td>12-Jun-15</td>\n",
       "      <td>FAKE</td>\n",
       "    </tr>\n",
       "  </tbody>\n",
       "</table>\n",
       "</div>"
      ],
      "text/plain": [
       "   index                                              title  \\\n",
       "0      0  North Korea says ICBM test used new launch veh...   \n",
       "1      1  WATCH JUDGE ORDER PUNK WEARING “POLICE LIE” T-...   \n",
       "2      2  Biden, Netanyahu discuss Iran, Islamic State, ...   \n",
       "3      3  Mansion where Obama to stay in Havana 'built t...   \n",
       "4      4  ILLEGAL ALIENS WHO LIED TO COURT, USED FAKE SS...   \n",
       "\n",
       "                                                text       subject       date  \\\n",
       "0  SEOUL (Reuters) - North Korea said a new inter...     worldnews  29-Nov-17   \n",
       "1  The hate for our law enforcement is at an all ...      politics  18-May-15   \n",
       "2  WASHINGTON (Reuters) - U.S. Vice President Joe...  politicsNews   9-Mar-16   \n",
       "3  HAVANA (Reuters) - The mansion in Havana where...  politicsNews  18-Mar-16   \n",
       "4  You can t make this up! Why are these criminal...     left-news  12-Jun-15   \n",
       "\n",
       "  label  \n",
       "0  TRUE  \n",
       "1  FAKE  \n",
       "2  TRUE  \n",
       "3  TRUE  \n",
       "4  FAKE  "
      ]
     },
     "execution_count": 10,
     "metadata": {},
     "output_type": "execute_result"
    }
   ],
   "source": [
    "#reset the id (reason in notes)\n",
    "df.reset_index(inplace=True)\n",
    "df.head()"
   ]
  },
  {
   "cell_type": "code",
   "execution_count": 11,
   "metadata": {},
   "outputs": [
    {
     "data": {
      "text/html": [
       "<div>\n",
       "<style scoped>\n",
       "    .dataframe tbody tr th:only-of-type {\n",
       "        vertical-align: middle;\n",
       "    }\n",
       "\n",
       "    .dataframe tbody tr th {\n",
       "        vertical-align: top;\n",
       "    }\n",
       "\n",
       "    .dataframe thead th {\n",
       "        text-align: right;\n",
       "    }\n",
       "</style>\n",
       "<table border=\"1\" class=\"dataframe\">\n",
       "  <thead>\n",
       "    <tr style=\"text-align: right;\">\n",
       "      <th></th>\n",
       "      <th>index</th>\n",
       "      <th>title</th>\n",
       "      <th>label</th>\n",
       "    </tr>\n",
       "  </thead>\n",
       "  <tbody>\n",
       "    <tr>\n",
       "      <th>0</th>\n",
       "      <td>0</td>\n",
       "      <td>North Korea says ICBM test used new launch veh...</td>\n",
       "      <td>TRUE</td>\n",
       "    </tr>\n",
       "    <tr>\n",
       "      <th>1</th>\n",
       "      <td>1</td>\n",
       "      <td>WATCH JUDGE ORDER PUNK WEARING “POLICE LIE” T-...</td>\n",
       "      <td>FAKE</td>\n",
       "    </tr>\n",
       "    <tr>\n",
       "      <th>2</th>\n",
       "      <td>2</td>\n",
       "      <td>Biden, Netanyahu discuss Iran, Islamic State, ...</td>\n",
       "      <td>TRUE</td>\n",
       "    </tr>\n",
       "    <tr>\n",
       "      <th>3</th>\n",
       "      <td>3</td>\n",
       "      <td>Mansion where Obama to stay in Havana 'built t...</td>\n",
       "      <td>TRUE</td>\n",
       "    </tr>\n",
       "    <tr>\n",
       "      <th>4</th>\n",
       "      <td>4</td>\n",
       "      <td>ILLEGAL ALIENS WHO LIED TO COURT, USED FAKE SS...</td>\n",
       "      <td>FAKE</td>\n",
       "    </tr>\n",
       "  </tbody>\n",
       "</table>\n",
       "</div>"
      ],
      "text/plain": [
       "   index                                              title label\n",
       "0      0  North Korea says ICBM test used new launch veh...  TRUE\n",
       "1      1  WATCH JUDGE ORDER PUNK WEARING “POLICE LIE” T-...  FAKE\n",
       "2      2  Biden, Netanyahu discuss Iran, Islamic State, ...  TRUE\n",
       "3      3  Mansion where Obama to stay in Havana 'built t...  TRUE\n",
       "4      4  ILLEGAL ALIENS WHO LIED TO COURT, USED FAKE SS...  FAKE"
      ]
     },
     "execution_count": 11,
     "metadata": {},
     "output_type": "execute_result"
    }
   ],
   "source": [
    "#removing the unwanted section for date-preprocessing easyness\n",
    "df = df.drop(['subject','text','date'],axis = 1)\n",
    "df.head()"
   ]
  },
  {
   "cell_type": "markdown",
   "metadata": {},
   "source": [
    "#Data preprocessing"
   ]
  },
  {
   "cell_type": "markdown",
   "metadata": {},
   "source": [
    "#Step 1: Tokenization"
   ]
  },
  {
   "cell_type": "code",
   "execution_count": 12,
   "metadata": {},
   "outputs": [
    {
     "data": {
      "text/plain": [
       "['The', 'quick', 'brown', 'fox', 'jumps', 'over', 'the', 'lazy', 'dog']"
      ]
     },
     "execution_count": 12,
     "metadata": {},
     "output_type": "execute_result"
    }
   ],
   "source": [
    "sample_data = 'The quick brown fox jumps over the lazy dog'\n",
    "sample_data = sample_data.split()\n",
    "sample_data"
   ]
  },
  {
   "cell_type": "markdown",
   "metadata": {},
   "source": [
    "#Step 2: Lower Case\n"
   ]
  },
  {
   "cell_type": "code",
   "execution_count": 13,
   "metadata": {},
   "outputs": [
    {
     "data": {
      "text/plain": [
       "['the', 'quick', 'brown', 'fox', 'jumps', 'over', 'the', 'lazy', 'dog']"
      ]
     },
     "execution_count": 13,
     "metadata": {},
     "output_type": "execute_result"
    }
   ],
   "source": [
    "sample_data = [data.lower() for data in sample_data]\n",
    "sample_data"
   ]
  },
  {
   "cell_type": "code",
   "execution_count": 14,
   "metadata": {},
   "outputs": [
    {
     "name": "stderr",
     "output_type": "stream",
     "text": [
      "[nltk_data] Downloading package stopwords to\n",
      "[nltk_data]     C:\\Users\\tapen\\AppData\\Roaming\\nltk_data...\n",
      "[nltk_data]   Package stopwords is already up-to-date!\n"
     ]
    },
    {
     "data": {
      "text/plain": [
       "True"
      ]
     },
     "execution_count": 14,
     "metadata": {},
     "output_type": "execute_result"
    }
   ],
   "source": [
    "#downloading libraries for stopwords\n",
    "import nltk\n",
    "nltk.download('stopwords')"
   ]
  },
  {
   "cell_type": "markdown",
   "metadata": {},
   "source": [
    "#Step 3: Remove stopwords"
   ]
  },
  {
   "cell_type": "code",
   "execution_count": 15,
   "metadata": {},
   "outputs": [
    {
     "name": "stdout",
     "output_type": "stream",
     "text": [
      "['i', 'me', 'my', 'myself', 'we', 'our', 'ours', 'ourselves', 'you', \"you're\"]\n",
      "179\n"
     ]
    }
   ],
   "source": [
    "stopwords = stopwords.words('english')\n",
    "print(stopwords[0:10])\n",
    "print(len(stopwords))"
   ]
  },
  {
   "cell_type": "markdown",
   "metadata": {},
   "source": [
    "#Step 4: Stemming"
   ]
  },
  {
   "cell_type": "code",
   "execution_count": 16,
   "metadata": {},
   "outputs": [
    {
     "name": "stdout",
     "output_type": "stream",
     "text": [
      "['the', 'quick', 'brown', 'fox', 'jump', 'over', 'the', 'lazi', 'dog']\n"
     ]
    }
   ],
   "source": [
    "ps = PorterStemmer()\n",
    "sample_data_stemming = [ps.stem(data) for data in sample_data]\n",
    "print(sample_data_stemming)"
   ]
  },
  {
   "cell_type": "code",
   "execution_count": 17,
   "metadata": {},
   "outputs": [
    {
     "name": "stderr",
     "output_type": "stream",
     "text": [
      "[nltk_data] Downloading package wordnet to\n",
      "[nltk_data]     C:\\Users\\tapen\\AppData\\Roaming\\nltk_data...\n",
      "[nltk_data]   Package wordnet is already up-to-date!\n"
     ]
    },
    {
     "data": {
      "text/plain": [
       "True"
      ]
     },
     "execution_count": 17,
     "metadata": {},
     "output_type": "execute_result"
    }
   ],
   "source": [
    "nltk.download('wordnet')"
   ]
  },
  {
   "cell_type": "markdown",
   "metadata": {},
   "source": [
    "#Step 5: Lamitization"
   ]
  },
  {
   "cell_type": "code",
   "execution_count": 18,
   "metadata": {},
   "outputs": [
    {
     "name": "stdout",
     "output_type": "stream",
     "text": [
      "['the', 'quick', 'brown', 'fox', 'jump', 'over', 'the', 'lazy', 'dog']\n"
     ]
    }
   ],
   "source": [
    "lm = WordNetLemmatizer()\n",
    "sample_data_lemma = [lm.lemmatize(data) for data in sample_data]\n",
    "print(sample_data_lemma)"
   ]
  },
  {
   "cell_type": "markdown",
   "metadata": {},
   "source": [
    "#The actual complete preprocessing of the data we have using the title"
   ]
  },
  {
   "cell_type": "code",
   "execution_count": 19,
   "metadata": {},
   "outputs": [],
   "source": [
    "lm = WordNetLemmatizer()\n",
    "corpus = []\n",
    "for i in range (len(df)):\n",
    "    review = re.sub('^a-zA-Z0-9',' ', df['title'][i]) #re means regualar expression\n",
    "    review = review.lower()\n",
    "    review = review.split()\n",
    "    review = [lm.lemmatize(x) for x in review if x not in stopwords]\n",
    "    review = \" \".join(review)\n",
    "    corpus.append(review)"
   ]
  },
  {
   "cell_type": "markdown",
   "metadata": {},
   "source": [
    "#### Testing the preprocessing data\n",
    "\n"
   ]
  },
  {
   "cell_type": "code",
   "execution_count": 20,
   "metadata": {},
   "outputs": [
    {
     "data": {
      "text/plain": [
       "4442"
      ]
     },
     "execution_count": 20,
     "metadata": {},
     "output_type": "execute_result"
    }
   ],
   "source": [
    "len(corpus) #length "
   ]
  },
  {
   "cell_type": "code",
   "execution_count": 21,
   "metadata": {},
   "outputs": [
    {
     "data": {
      "text/plain": [
       "'North Korea says ICBM test used new launch vehicle, showed successful warhead re-entry'"
      ]
     },
     "execution_count": 21,
     "metadata": {},
     "output_type": "execute_result"
    }
   ],
   "source": [
    "#initially the title was\n",
    "df['title'][0]"
   ]
  },
  {
   "cell_type": "code",
   "execution_count": 22,
   "metadata": {},
   "outputs": [
    {
     "data": {
      "text/plain": [
       "'north korea say icbm test used new launch vehicle, showed successful warhead re-entry'"
      ]
     },
     "execution_count": 22,
     "metadata": {},
     "output_type": "execute_result"
    }
   ],
   "source": [
    "#After preprocessing we get the same title as\n",
    "corpus[0]\n",
    "#here we have removed the words like(we it until) as stopwords changed into lowercase and did lamitization"
   ]
  },
  {
   "cell_type": "markdown",
   "metadata": {},
   "source": [
    "#Vectorizatio and classifying the test data"
   ]
  },
  {
   "cell_type": "markdown",
   "metadata": {},
   "source": [
    "###IDF Function ###\n",
    "parameters : corpus: set of documents; unique_words : list of sorted unique words\n",
    "\n",
    "output : dictionary with word as key and its idf value as value\n",
    "\n",
    "\n",
    "IDF formula :  $IDF(t) = 1+\\log_{e}\\frac{1\\text{ }+\\text{ Total  number of documents in collection}} {1+\\text{Number of documents with term t in it}}.$\n",
    "\n",
    "\n"
   ]
  },
  {
   "cell_type": "markdown",
   "metadata": {},
   "source": [
    "###FIT Function ###\n",
    "parameters : corpus : set of documents\n",
    "\n",
    "outputs : vocab: vocabulary dictionary; idf_dict"
   ]
  },
  {
   "cell_type": "markdown",
   "metadata": {},
   "source": [
    "###Transform function###\n",
    "parameters : corpus: set of documents, \n",
    "             vocab : vocabulary, \n",
    "             idf_dict\n",
    "\n",
    "outputs : normalised sparse matrix\n",
    "\n",
    "Using L2 Normalisation : document - https://scikit-learn.org/stable/modules/generated/sklearn.preprocessing.normalize.html"
   ]
  },
  {
   "cell_type": "code",
   "execution_count": 23,
   "metadata": {},
   "outputs": [],
   "source": [
    "def idf(corpus,unique_words):\n",
    "  idf_dict = {}\n",
    "  total_number_of_documents_in_collection = len(corpus)\n",
    "  for word in unique_words:\n",
    "    count = 0\n",
    "    for sentence in corpus:\n",
    "      if word in sentence.split(\" \"):\n",
    "        count +=1\n",
    "      idf_dict[word]=(math.log((1+total_number_of_documents_in_collection)/(count+1)))+1\n",
    "  return idf_dict\n",
    "\n",
    "class TFIDF:\n",
    "    def __init__(self):\n",
    "        self.vocab = None\n",
    "        self.idf_dict = None\n",
    "\n",
    "    def fit(self, corpus):\n",
    "        unique_words = set()\n",
    "        if isinstance(corpus, (list,)):\n",
    "            for row in corpus:\n",
    "                for word in row.split(\" \"):\n",
    "                    if len(word) < 2:\n",
    "                        continue\n",
    "                    unique_words.add(word)\n",
    "            unique_words = sorted(list(unique_words))\n",
    "            self.vocab = {j:i for i, j in enumerate(unique_words)}\n",
    "            self.idf_dict = idf(corpus, unique_words)\n",
    "            return self.vocab, self.idf_dict\n",
    "        else:\n",
    "            print('Please Pass the list')\n",
    "\n",
    "    def transform(self, corpus):\n",
    "        rows = []\n",
    "        columns = []\n",
    "        values = []\n",
    "        if isinstance(corpus, (list,)):\n",
    "            if self.vocab is None or self.idf_dict is None:\n",
    "                print(\"Please fit the model using fit() method before transforming data.\")\n",
    "                return None\n",
    "            \n",
    "            for idx, string in enumerate(corpus):\n",
    "                no_of_terms_in_document = len(string.split(\" \"))\n",
    "                for word in string.split(\" \"):\n",
    "                    if word in list(self.vocab.keys()):\n",
    "                        no_of_times_word_in_string = string.split(\" \").count(word)\n",
    "                        tf_idf_values = (no_of_times_word_in_string / no_of_terms_in_document) * self.idf_dict[word]\n",
    "                        col_index = self.vocab.get(word, -1)\n",
    "                        if col_index != -1:\n",
    "                            rows.append(idx)\n",
    "                            columns.append(col_index)\n",
    "                            values.append(tf_idf_values)\n",
    "            output_matrix = csr_matrix((values, (rows, columns)), shape=(len(corpus), len(self.vocab)))\n",
    "            output_norm_matrix = normalize(output_matrix, norm='l2', axis=1, copy=True, return_norm=False)\n",
    "            return output_norm_matrix\n",
    "        else:\n",
    "            print(\"Please Pass the list\")"
   ]
  },
  {
   "cell_type": "code",
   "execution_count": 24,
   "metadata": {},
   "outputs": [
    {
     "name": "stdout",
     "output_type": "stream",
     "text": [
      "[[0. 0. 0. ... 0. 0. 0.]\n",
      " [0. 0. 0. ... 0. 0. 0.]\n",
      " [0. 0. 0. ... 0. 0. 0.]\n",
      " ...\n",
      " [0. 0. 0. ... 0. 0. 0.]\n",
      " [0. 0. 0. ... 0. 0. 0.]\n",
      " [0. 0. 0. ... 0. 0. 0.]]\n",
      "<class 'numpy.ndarray'>\n",
      "(4442, 10908)\n",
      "48453336\n"
     ]
    }
   ],
   "source": [
    "tf=TFIDF()\n",
    "tf.fit(corpus)\n",
    "x = tf.transform(corpus).toarray()\n",
    "print(x)\n",
    "print(type(x))\n",
    "print(x.shape)\n",
    "print(x.size)"
   ]
  },
  {
   "cell_type": "code",
   "execution_count": 25,
   "metadata": {},
   "outputs": [
    {
     "data": {
      "text/plain": [
       "4442"
      ]
     },
     "execution_count": 25,
     "metadata": {},
     "output_type": "execute_result"
    }
   ],
   "source": [
    "y = df['label']\n",
    "y.head()\n",
    "y.size"
   ]
  },
  {
   "cell_type": "code",
   "execution_count": 26,
   "metadata": {},
   "outputs": [],
   "source": [
    "#Data splitting into the train and test\n",
    "x_train, x_test, y_train, y_test = train_test_split(x,y, test_size = 0.4, random_state = 11, stratify = y )"
   ]
  },
  {
   "cell_type": "code",
   "execution_count": 27,
   "metadata": {},
   "outputs": [
    {
     "data": {
      "text/plain": [
       "(2665, 2665)"
      ]
     },
     "execution_count": 27,
     "metadata": {},
     "output_type": "execute_result"
    }
   ],
   "source": [
    "len(x_train),len(y_train)"
   ]
  },
  {
   "cell_type": "code",
   "execution_count": 28,
   "metadata": {},
   "outputs": [
    {
     "data": {
      "text/plain": [
       "(1777, 1777)"
      ]
     },
     "execution_count": 28,
     "metadata": {},
     "output_type": "execute_result"
    }
   ],
   "source": [
    "len(x_test), len(y_test)"
   ]
  },
  {
   "cell_type": "code",
   "execution_count": 29,
   "metadata": {},
   "outputs": [
    {
     "name": "stdout",
     "output_type": "stream",
     "text": [
      "[[0. 0. 0. ... 0. 0. 0.]\n",
      " [0. 0. 0. ... 0. 0. 0.]\n",
      " [0. 0. 0. ... 0. 0. 0.]\n",
      " ...\n",
      " [0. 0. 0. ... 0. 0. 0.]\n",
      " [0. 0. 0. ... 0. 0. 0.]\n",
      " [0. 0. 0. ... 0. 0. 0.]]\n",
      "[[0. 0. 0. ... 0. 0. 0.]\n",
      " [0. 0. 0. ... 0. 0. 0.]\n",
      " [0. 0. 0. ... 0. 0. 0.]\n",
      " ...\n",
      " [0. 0. 0. ... 0. 0. 0.]\n",
      " [0. 0. 0. ... 0. 0. 0.]\n",
      " [0. 0. 0. ... 0. 0. 0.]]\n",
      "1125    TRUE\n",
      "2913    FAKE\n",
      "2392    TRUE\n",
      "1869    TRUE\n",
      "2566    TRUE\n",
      "        ... \n",
      "3105    FAKE\n",
      "1829    TRUE\n",
      "180     TRUE\n",
      "3448    TRUE\n",
      "2921    TRUE\n",
      "Name: label, Length: 2665, dtype: object\n",
      "3841    TRUE\n",
      "550     TRUE\n",
      "1828    TRUE\n",
      "3485    TRUE\n",
      "515     FAKE\n",
      "        ... \n",
      "486     TRUE\n",
      "2394    TRUE\n",
      "2358    FAKE\n",
      "3238    TRUE\n",
      "1135    TRUE\n",
      "Name: label, Length: 1777, dtype: object\n",
      "<class 'numpy.ndarray'>\n",
      "<class 'pandas.core.series.Series'>\n"
     ]
    }
   ],
   "source": [
    "#print all x_test,x_train, y_train and y_test to see whats going on for more detail\n",
    "print(x_train)\n",
    "print(x_test)\n",
    "print(y_train)\n",
    "print(y_test)\n",
    "print(type(x_train))\n",
    "print(type(y_train))"
   ]
  },
  {
   "cell_type": "markdown",
   "metadata": {},
   "source": [
    "##### Converting y_train data into array instead of panas.core.series.Series\n"
   ]
  },
  {
   "cell_type": "code",
   "execution_count": 30,
   "metadata": {},
   "outputs": [
    {
     "name": "stdout",
     "output_type": "stream",
     "text": [
      "[1 0 1 ... 1 1 1]\n"
     ]
    }
   ],
   "source": [
    "my_series = pd.Series(y_train)\n",
    "\n",
    "# Mapping 'TRUE' to 1 and 'FAKE' to 0 using map function\n",
    "mapped_series = my_series.map({'TRUE': 1, 'FAKE': 0})\n",
    "\n",
    "# Convert the mapped series to a NumPy array\n",
    "y_train = mapped_series.to_numpy()\n",
    "\n",
    "# Display the resulting NumPy array\n",
    "print(y_train)"
   ]
  },
  {
   "cell_type": "code",
   "execution_count": 31,
   "metadata": {},
   "outputs": [
    {
     "name": "stdout",
     "output_type": "stream",
     "text": [
      "[1 0 1 ... 1 1 1]\n",
      "<class 'numpy.ndarray'>\n"
     ]
    }
   ],
   "source": [
    "print (y_train)\n",
    "print (type(y_train))"
   ]
  },
  {
   "cell_type": "markdown",
   "metadata": {},
   "source": [
    "#Model building\n"
   ]
  },
  {
   "cell_type": "markdown",
   "metadata": {},
   "source": [
    "## Decision Tree"
   ]
  },
  {
   "cell_type": "code",
   "execution_count": 32,
   "metadata": {},
   "outputs": [],
   "source": [
    "class Node:\n",
    "    def __init__(self, feature=None, threshold=None, left=None, right=None,*,value=None):\n",
    "        self.feature = feature\n",
    "        self.threshold = threshold\n",
    "        self.left = left\n",
    "        self.right = right\n",
    "        self.value = value\n",
    "        \n",
    "    def is_leaf_node(self):\n",
    "        return self.value is not None\n",
    "\n",
    "class DecisionTree:\n",
    "    def __init__(self, min_samples_split=2, max_depth=100, n_features=None):\n",
    "        self.min_samples_split=min_samples_split\n",
    "        self.max_depth=max_depth\n",
    "        self.n_features=n_features\n",
    "        self.root=None\n",
    "\n",
    "    def fit(self, X, y):\n",
    "        self.n_features = X.shape[1] if not self.n_features else min(X.shape[1],self.n_features)\n",
    "        self.root = self._grow_tree(X, y)\n",
    "\n",
    "    def _grow_tree(self, X, y, depth=0):\n",
    "        n_samples, n_feats = X.shape\n",
    "        n_labels = len(np.unique(y))\n",
    "\n",
    "        # check the stopping criteria\n",
    "        if (depth>=self.max_depth or n_labels==1 or n_samples<self.min_samples_split):\n",
    "            leaf_value = self._most_common_label(y)\n",
    "            return Node(value=leaf_value)\n",
    "\n",
    "        feat_idxs = np.random.choice(n_feats, self.n_features, replace=False)\n",
    "\n",
    "        # find the best split\n",
    "        best_feature, best_thresh = self._best_split(X, y, feat_idxs)\n",
    "\n",
    "        # create child nodes\n",
    "        left_idxs, right_idxs = self._split(X[:, best_feature], best_thresh)\n",
    "        left = self._grow_tree(X[left_idxs, :], y[left_idxs], depth+1)\n",
    "        right = self._grow_tree(X[right_idxs, :], y[right_idxs], depth+1)\n",
    "        return Node(best_feature, best_thresh, left, right)\n",
    "\n",
    "\n",
    "    def _best_split(self, X, y, feat_idxs):\n",
    "        best_gain = -1\n",
    "        split_idx, split_threshold = None, None\n",
    "\n",
    "        for feat_idx in feat_idxs:\n",
    "            X_column = X[:, feat_idx]\n",
    "            thresholds = np.unique(X_column)\n",
    "\n",
    "            for thr in thresholds:\n",
    "                # calculate the information gain\n",
    "                gain = self._information_gain(y, X_column, thr)\n",
    "\n",
    "                if gain > best_gain:\n",
    "                    best_gain = gain\n",
    "                    split_idx = feat_idx\n",
    "                    split_threshold = thr\n",
    "\n",
    "        return split_idx, split_threshold\n",
    "\n",
    "\n",
    "    def _information_gain(self, y, X_column, threshold):\n",
    "        # parent entropy\n",
    "        parent_entropy = self._entropy(y)\n",
    "\n",
    "        # create children\n",
    "        left_idxs, right_idxs = self._split(X_column, threshold)\n",
    "\n",
    "        if len(left_idxs) == 0 or len(right_idxs) == 0:\n",
    "            return 0\n",
    "        \n",
    "        # calculate the weighted avg. entropy of children\n",
    "        n = len(y)\n",
    "        n_l, n_r = len(left_idxs), len(right_idxs)\n",
    "        e_l, e_r = self._entropy(y[left_idxs]), self._entropy(y[right_idxs])\n",
    "        child_entropy = (n_l/n) * e_l + (n_r/n) * e_r\n",
    "\n",
    "        # calculate the IG\n",
    "        information_gain = parent_entropy - child_entropy\n",
    "        return information_gain\n",
    "\n",
    "    def _split(self, X_column, split_thresh):\n",
    "        left_idxs = np.argwhere(X_column <= split_thresh).flatten()\n",
    "        right_idxs = np.argwhere(X_column > split_thresh).flatten()\n",
    "        return left_idxs, right_idxs\n",
    "\n",
    "    def _entropy(self, y):\n",
    "        hist = np.bincount(y)\n",
    "        ps = hist / len(y)\n",
    "        return -np.sum([p * np.log(p) for p in ps if p>0])\n",
    "\n",
    "    def _most_common_label(self, y):\n",
    "        counter = Counter(y)\n",
    "        value = counter.most_common(1)[0][0]\n",
    "        return value\n",
    "\n",
    "    def predict(self, X):\n",
    "        return np.array([self._traverse_tree(x, self.root) for x in X])\n",
    "\n",
    "    def _traverse_tree(self, x, node):\n",
    "        if node.is_leaf_node():\n",
    "            return node.value\n",
    "\n",
    "        if x[node.feature] <= node.threshold:\n",
    "            return self._traverse_tree(x, node.left)\n",
    "        return self._traverse_tree(x, node.right)\n",
    "    \n",
    "    def _gini_index(self, y):\n",
    "        hist = np.bincount(y)\n",
    "        probabilities = hist / len(y)\n",
    "        gini = 1 - np.sum(probabilities ** 2)\n",
    "        return gini\n",
    "\n",
    "def visualize_custom_tree(node, depth=0):\n",
    "    if node is None:\n",
    "        return\n",
    "\n",
    "    indent = \"    \" * depth\n",
    "    if node.is_leaf_node():\n",
    "        print(f\"{indent}Leaf Node - Value: {node.value}\")\n",
    "    else:\n",
    "        print(f\"{indent}Split on Feature: {node.feature} at Threshold: {node.threshold}\")\n",
    "\n",
    "    visualize_custom_tree(node.left, depth + 1)\n",
    "    visualize_custom_tree(node.right, depth + 1)"
   ]
  },
  {
   "cell_type": "markdown",
   "metadata": {},
   "source": [
    "#### Decision tree plot ####"
   ]
  },
  {
   "cell_type": "code",
   "execution_count": 33,
   "metadata": {},
   "outputs": [
    {
     "data": {
      "image/png": "[encoded data removed]",
      "text/plain": [
       "<Figure size 1200x500 with 1 Axes>"
      ]
     },
     "metadata": {},
     "output_type": "display_data"
    }
   ],
   "source": [
    "from sklearn.tree import DecisionTreeClassifier,plot_tree\n",
    "tree=DecisionTreeClassifier(max_depth=4)\n",
    "X_train=x_train\n",
    "Y_train=y_train\n",
    "tree.fit(X_train,Y_train)\n",
    "plt.figure(\"Decision Tree\",figsize=[12,5])\n",
    "plot_tree(tree,fontsize=10,filled=True)\n",
    "plt.tight_layout()\n",
    "\n",
    "image_folder_path = os.path.join(\"static\", \"Images\")\n",
    "# Define the file path for saving the image\n",
    "image_path = os.path.join(image_folder_path, \"decision_tree.png\")\n",
    "# Save the generated image\n",
    "plt.savefig(image_path)\n",
    "\n",
    "# Show the plot\n",
    "plt.show()"
   ]
  },
  {
   "cell_type": "markdown",
   "metadata": {},
   "source": [
    "## Random Forest"
   ]
  },
  {
   "cell_type": "code",
   "execution_count": 34,
   "metadata": {},
   "outputs": [],
   "source": [
    "class RandomForest:\n",
    "    def __init__(self, n_trees=10, max_depth=10, min_samples_split=2, n_feature=None):\n",
    "        self.n_trees = n_trees\n",
    "        self.max_depth=max_depth\n",
    "        self.min_samples_split=min_samples_split\n",
    "        self.n_features=n_feature\n",
    "        self.trees = []\n",
    "\n",
    "    def fit(self, X, y):\n",
    "        self.trees = []\n",
    "        for _ in range(self.n_trees):\n",
    "            tree = DecisionTree(max_depth=self.max_depth,\n",
    "                            min_samples_split=self.min_samples_split,\n",
    "                            n_features=self.n_features)\n",
    "            X_sample, y_sample = self._bootstrap_samples(X, y)\n",
    "            tree.fit(X_sample, y_sample)\n",
    "            self.trees.append(tree)\n",
    "\n",
    "    def _bootstrap_samples(self, X, y):\n",
    "        n_samples = X.shape[0]\n",
    "        idxs = np.random.choice(n_samples, n_samples, replace=True)\n",
    "        return X[idxs], y[idxs]\n",
    "\n",
    "    def _most_common_label(self, y):\n",
    "        counter = Counter(y)\n",
    "        most_common = counter.most_common(1)[0][0]\n",
    "        return most_common\n",
    "\n",
    "    def predict(self, X):\n",
    "        predictions = np.array([tree.predict(X) for tree in self.trees])\n",
    "        tree_preds = np.swapaxes(predictions, 0, 1)\n",
    "        predictions = np.array([self._most_common_label(pred) for pred in tree_preds])\n",
    "        return predictions"
   ]
  },
  {
   "cell_type": "code",
   "execution_count": 35,
   "metadata": {},
   "outputs": [],
   "source": [
    "#random forest\n",
    "rf = RandomForest()\n",
    "rf.fit(x_train, y_train)\n",
    "y_pred = rf.predict(x_test)"
   ]
  },
  {
   "cell_type": "code",
   "execution_count": 36,
   "metadata": {},
   "outputs": [],
   "source": [
    "#rf=RandomForestClassifier()\n",
    "#rf.fit(x_train,y_train)"
   ]
  },
  {
   "cell_type": "markdown",
   "metadata": {},
   "source": [
    "#Model evalation "
   ]
  },
  {
   "cell_type": "code",
   "execution_count": 37,
   "metadata": {},
   "outputs": [
    {
     "name": "stdout",
     "output_type": "stream",
     "text": [
      "[1 1 1 ... 0 1 1]\n"
     ]
    }
   ],
   "source": [
    "my_series = pd.Series(y_test)\n",
    "\n",
    "# Mapping 'TRUE' to 1 and 'FAKE' to 0 using map function\n",
    "mapped_series_test = my_series.map({'TRUE': 1, 'FAKE': 0})\n",
    "\n",
    "# Convert the mapped series to a NumPy array\n",
    "y_test = mapped_series_test.to_numpy()\n",
    "\n",
    "# Display the resulting NumPy array\n",
    "print(y_test)"
   ]
  },
  {
   "cell_type": "code",
   "execution_count": 38,
   "metadata": {},
   "outputs": [
    {
     "name": "stdout",
     "output_type": "stream",
     "text": [
      "[1 0 1 ... 1 1 1]\n",
      "<class 'numpy.ndarray'>\n"
     ]
    }
   ],
   "source": [
    "print (y_train)\n",
    "print (type(y_train))"
   ]
  },
  {
   "cell_type": "code",
   "execution_count": 39,
   "metadata": {},
   "outputs": [
    {
     "data": {
      "text/plain": [
       "0.8266741699493528"
      ]
     },
     "execution_count": 39,
     "metadata": {},
     "output_type": "execute_result"
    }
   ],
   "source": [
    "accuracy_score_ = accuracy_score(y_test,y_pred) \n",
    "accuracy_score_"
   ]
  },
  {
   "cell_type": "code",
   "execution_count": 40,
   "metadata": {},
   "outputs": [],
   "source": [
    "import os\n",
    "import matplotlib.pyplot as plt\n",
    "import seaborn as sns\n",
    "from sklearn.metrics import accuracy_score, confusion_matrix, classification_report\n",
    "\n",
    "class Evaluation:\n",
    "    def __init__(self, model, x_train, x_test, y_train, y_test):\n",
    "        self.model = model\n",
    "        self.x_train = x_train\n",
    "        self.x_test = x_test\n",
    "        self.y_train = y_train\n",
    "        self.y_test = y_test\n",
    "        \n",
    "    def train_evaluation(self):\n",
    "        y_pred_train = self.model.predict(self.x_train)\n",
    "        \n",
    "        acc_scr_train = accuracy_score(self.y_train, y_pred_train)\n",
    "        print(\"Accuracy Score On Training Data Set:\", acc_scr_train)\n",
    "        print()\n",
    "        \n",
    "        con_mat_train = confusion_matrix(self.y_train, y_pred_train)\n",
    "        print(\"Confusion Matrix On Training Data Set:\\n\", con_mat_train)\n",
    "        print()\n",
    "        \n",
    "        class_rep_train = classification_report(self.y_train, y_pred_train, output_dict=True)\n",
    "        print(\"Classification Report On Training Data Set:\\n\", class_rep_train)\n",
    "        \n",
    "        # Define the path to the Images folder\n",
    "        image_folder = 'static/Images/'\n",
    "\n",
    "        # Ensure that the Images folder exists\n",
    "        if not os.path.exists(image_folder):\n",
    "            os.makedirs(image_folder)\n",
    "\n",
    "        # Visualize accuracy score using a bar chart\n",
    "        plt.figure(figsize=(8, 6))\n",
    "        plt.bar(['Training Accuracy'], [acc_scr_train], color='blue')\n",
    "        plt.title('Accuracy Score Comparison')\n",
    "        plt.ylabel('Accuracy Score')\n",
    "        plt.savefig(image_folder + 'accuracy_bar_chart_train.png')  # Save the plot as an image\n",
    "        plt.close()  # Close the plot to free up memory\n",
    "\n",
    "        # Visualize confusion matrix using a heatmap\n",
    "        plt.figure(figsize=(8, 6))\n",
    "        sns.heatmap(con_mat_train, annot=True, cmap='Blues', fmt='d')\n",
    "        plt.title('Confusion Matrix - Training Data Set')\n",
    "        plt.xlabel('Predicted')\n",
    "        plt.ylabel('Actual')\n",
    "        plt.savefig(image_folder + 'confusion_matrix_heatmap_train.png')  # Save the plot as an image\n",
    "        plt.close() \n",
    "        \n",
    "        # Visualize classification report using bar charts for precision, recall, f1-score, and support\n",
    "        metrics = ['precision', 'recall', 'f1-score', 'support']\n",
    "        classes = [str(cls) for cls in class_rep_train.keys() if cls.isdigit()]\n",
    "        plt.figure(figsize=(14, 8))\n",
    "        for metric in metrics:\n",
    "            if metric != 'support':\n",
    "                scores = [class_rep_train[cls][metric] for cls in classes]\n",
    "                plt.bar(classes, scores, alpha=0.7, label=metric)\n",
    "            else:\n",
    "                # Display support as a line plot\n",
    "                support_scores = [class_rep_train[cls][metric] for cls in classes]\n",
    "                plt.plot(classes, support_scores, marker='o', linestyle='-', linewidth=2, label=metric)\n",
    "        plt.title('Classification Report - Training Data Set')\n",
    "        plt.xlabel('Class')\n",
    "        plt.ylabel('Score/Support')\n",
    "        plt.legend()\n",
    "        plt.xticks(rotation=45)\n",
    "        plt.tight_layout()\n",
    "        plt.savefig(image_folder + 'classification_report_train.png')  # Save the plot as an image\n",
    "        plt.close()\n",
    "        \n",
    "    def test_evaluation(self):\n",
    "        # Define the path to the Images folder\n",
    "        image_folder = 'static/Images/'\n",
    "\n",
    "        y_pred_test = self.model.predict(self.x_test)\n",
    "        \n",
    "        acc_scr_test = accuracy_score(self.y_test, y_pred_test)\n",
    "        print(\"Accuracy Score On Testing Data Set:\", acc_scr_test)\n",
    "        print()\n",
    "        \n",
    "        con_mat_test = confusion_matrix(self.y_test, y_pred_test)\n",
    "        print(\"Confusion Matrix On Testing Data Set:\\n\", con_mat_test)\n",
    "        print()\n",
    "        \n",
    "        class_rep_test = classification_report(self.y_test, y_pred_test, output_dict=True)\n",
    "        print(\"Classification Report On Testing Data Set:\\n\", class_rep_test)\n",
    "        \n",
    "        # Visualize accuracy score using a bar chart\n",
    "        plt.figure(figsize=(8, 6))\n",
    "        plt.bar(['Testing Accuracy'], [acc_scr_test], color='green')\n",
    "        plt.title('Accuracy Score Comparison')\n",
    "        plt.ylabel('Accuracy Score')\n",
    "        plt.savefig(image_folder + 'accuracy_bar_chart_test.png')  # Save the plot as an image\n",
    "        plt.close()  # Close the plot to free up memory\n",
    "\n",
    "        # Visualize confusion matrix using a heatmap\n",
    "        plt.figure(figsize=(8, 6))\n",
    "        sns.heatmap(con_mat_test, annot=True, cmap='Greens', fmt='d')\n",
    "        plt.title('Confusion Matrix - Testing Data Set')\n",
    "        plt.xlabel('Predicted')\n",
    "        plt.ylabel('Actual')\n",
    "        plt.savefig(image_folder + 'confusion_matrix_heatmap_test.png')  # Save the plot as an image\n",
    "        plt.close()\n",
    "        \n",
    "        # Visualize classification report using bar charts for precision, recall, f1-score, and support\n",
    "        metrics = ['precision', 'recall', 'f1-score', 'support']\n",
    "        classes = [str(cls) for cls in class_rep_test.keys() if cls.isdigit()]\n",
    "        plt.figure(figsize=(14, 8))\n",
    "        for metric in metrics:\n",
    "            if metric != 'support':\n",
    "                scores = [class_rep_test[cls][metric] for cls in classes]\n",
    "                plt.bar(classes, scores, alpha=0.7, label=metric)\n",
    "            else:\n",
    "                # Display support as a line plot\n",
    "                support_scores = [class_rep_test[cls][metric] for cls in classes]\n",
    "                plt.plot(classes, support_scores, marker='o', linestyle='-', linewidth=2, label=metric)\n",
    "        plt.title('Classification Report - Testing Data Set')\n",
    "        plt.xlabel('Class')\n",
    "        plt.ylabel('Score/Support')\n",
    "        plt.legend()\n",
    "        plt.xticks(rotation=45)\n",
    "        plt.tight_layout()\n",
    "        plt.savefig(image_folder + 'classification_report_test.png')  # Save the plot as an image\n",
    "        plt.close()\n"
   ]
  },
  {
   "cell_type": "markdown",
   "metadata": {},
   "source": [
    "#### Visualize accuracy ####"
   ]
  },
  {
   "cell_type": "code",
   "execution_count": 41,
   "metadata": {},
   "outputs": [
    {
     "name": "stdout",
     "output_type": "stream",
     "text": [
      "Accuracy Score On Training Data Set: 0.8532833020637899\n",
      "\n",
      "Confusion Matrix On Training Data Set:\n",
      " [[ 446  389]\n",
      " [   2 1828]]\n",
      "\n",
      "Classification Report On Training Data Set:\n",
      " {'0': {'precision': 0.9955357142857143, 'recall': 0.5341317365269461, 'f1-score': 0.6952455183164459, 'support': 835.0}, '1': {'precision': 0.8245376635092467, 'recall': 0.9989071038251366, 'f1-score': 0.9033852236224363, 'support': 1830.0}, 'accuracy': 0.8532833020637899, 'macro avg': {'precision': 0.9100366888974805, 'recall': 0.7665194201760414, 'f1-score': 0.7993153709694412, 'support': 2665.0}, 'weighted avg': {'precision': 0.8781149139401475, 'recall': 0.8532833020637899, 'f1-score': 0.8381707193333174, 'support': 2665.0}}\n",
      "Accuracy Score On Testing Data Set: 0.8266741699493528\n",
      "\n",
      "Confusion Matrix On Testing Data Set:\n",
      " [[ 261  296]\n",
      " [  12 1208]]\n",
      "\n",
      "Classification Report On Testing Data Set:\n",
      " {'0': {'precision': 0.9560439560439561, 'recall': 0.46858168761220825, 'f1-score': 0.6289156626506024, 'support': 557.0}, '1': {'precision': 0.8031914893617021, 'recall': 0.9901639344262295, 'f1-score': 0.8869309838472834, 'support': 1220.0}, 'accuracy': 0.8266741699493528, 'macro avg': {'precision': 0.8796177227028291, 'recall': 0.7293728110192189, 'f1-score': 0.7579233232489428, 'support': 1777.0}, 'weighted avg': {'precision': 0.8511030391321104, 'recall': 0.8266741699493528, 'f1-score': 0.8060561757963259, 'support': 1777.0}}\n"
     ]
    }
   ],
   "source": [
    "Evaluation(rf,x_train, x_test, y_train, y_test).train_evaluation()\n",
    "Evaluation(rf,x_train, x_test, y_train, y_test).test_evaluation()"
   ]
  },
  {
   "cell_type": "markdown",
   "metadata": {},
   "source": [
    "#Prediction Pipeline"
   ]
  },
  {
   "cell_type": "code",
   "execution_count": 42,
   "metadata": {},
   "outputs": [],
   "source": [
    "class Preprocessing:\n",
    "    \n",
    "    def __init__(self,data):\n",
    "        self.data = data\n",
    "        \n",
    "    def text_preprocessing_user(self):\n",
    "        lm = WordNetLemmatizer()\n",
    "        pred_data = [self.data]    \n",
    "        preprocess_data = []\n",
    "        for data in pred_data:\n",
    "            review = re.sub('^a-zA-Z0-9',' ', data)\n",
    "            review = review.lower()\n",
    "            review = review.split()\n",
    "            review = [lm.lemmatize(x) for x in review if x not in stopwords]\n",
    "            review = \" \".join(review)\n",
    "            preprocess_data.append(review)\n",
    "        return preprocess_data    "
   ]
  },
  {
   "cell_type": "code",
   "execution_count": 43,
   "metadata": {},
   "outputs": [
    {
     "data": {
      "text/plain": [
       "'WATCH JUDGE ORDER PUNK WEARING “POLICE LIE” T-SHIRT TO LEAVE COURTROOM…Or Face Contempt Charges'"
      ]
     },
     "execution_count": 43,
     "metadata": {},
     "output_type": "execute_result"
    }
   ],
   "source": [
    "df['title'][1]"
   ]
  },
  {
   "cell_type": "code",
   "execution_count": 44,
   "metadata": {},
   "outputs": [
    {
     "data": {
      "text/plain": [
       "['watch judge order punk wearing “police lie” t-shirt leave courtroom…or face contempt charge']"
      ]
     },
     "execution_count": 44,
     "metadata": {},
     "output_type": "execute_result"
    }
   ],
   "source": [
    "data = 'WATCH JUDGE ORDER PUNK WEARING “POLICE LIE” T-SHIRT TO LEAVE COURTROOM…Or Face Contempt Charges'\n",
    "Preprocessing(data).text_preprocessing_user()"
   ]
  },
  {
   "cell_type": "markdown",
   "metadata": {},
   "source": [
    "#Prediction "
   ]
  },
  {
   "cell_type": "code",
   "execution_count": 45,
   "metadata": {},
   "outputs": [],
   "source": [
    "class Prediction:\n",
    "    \n",
    "    def __init__(self,pred_data, model):\n",
    "        self.pred_data = pred_data\n",
    "        self.model = model\n",
    "        \n",
    "    def prediction_model(self):\n",
    "        preprocess_data = Preprocessing(self.pred_data).text_preprocessing_user()\n",
    "        data = tf.transform(preprocess_data).toarray()\n",
    "        prediction = self.model.predict(data)\n",
    "        \n",
    "        if prediction [0] == 1 :\n",
    "            return \"The News headline is -> True\"\n",
    "        \n",
    "        else:\n",
    "            return \"The News headline is-> Fake\""
   ]
  },
  {
   "cell_type": "code",
   "execution_count": 46,
   "metadata": {},
   "outputs": [
    {
     "data": {
      "text/plain": [
       "'The News headline is -> True'"
      ]
     },
     "execution_count": 46,
     "metadata": {},
     "output_type": "execute_result"
    }
   ],
   "source": [
    "user_data = 'Biden, Netanyahu discuss Iran, Islamic State, Syria in Jerusalem meeting'\n",
    "Prediction(user_data,rf).prediction_model()"
   ]
  },
  {
   "cell_type": "code",
   "execution_count": 47,
   "metadata": {},
   "outputs": [
    {
     "data": {
      "text/plain": [
       "'[VIDEO] RINO STRATEGIST KARL ROVE HAS SOLUTION TO GUN VIOLENCE: Repeal Second Amendment'"
      ]
     },
     "execution_count": 47,
     "metadata": {},
     "output_type": "execute_result"
    }
   ],
   "source": [
    "df['title'][11]"
   ]
  },
  {
   "cell_type": "code",
   "execution_count": 48,
   "metadata": {},
   "outputs": [
    {
     "data": {
      "text/plain": [
       "'FAKE'"
      ]
     },
     "execution_count": 48,
     "metadata": {},
     "output_type": "execute_result"
    }
   ],
   "source": [
    "df.label[11]"
   ]
  },
  {
   "cell_type": "code",
   "execution_count": 49,
   "metadata": {},
   "outputs": [
    {
     "data": {
      "text/plain": [
       "'The News headline is-> Fake'"
      ]
     },
     "execution_count": 49,
     "metadata": {},
     "output_type": "execute_result"
    }
   ],
   "source": [
    "user_data='[VIDEO] RINO STRATEGIST KARL ROVE HAS SOLUTION TO GUN VIOLENCE: Repeal Second Amendment'\n",
    "Prediction(user_data,rf).prediction_model()"
   ]
  },
  {
   "cell_type": "code",
   "execution_count": 50,
   "metadata": {},
   "outputs": [],
   "source": [
    "# import pickle\n",
    "# filename='finalized_model.pkl'\n",
    "# pickle.dump(rf,open(filename,'wb'))"
   ]
  },
  {
   "cell_type": "code",
   "execution_count": 51,
   "metadata": {},
   "outputs": [],
   "source": [
    "# import pickle\n",
    "# filename='vectorizer.pkl'\n",
    "# pickle.dump(tf,open(filename,'wb'))"
   ]
  }
 ],
 "metadata": {
  "kernelspec": {
   "display_name": "Python 3",
   "language": "python",
   "name": "python3"
  },
  "language_info": {
   "codemirror_mode": {
    "name": "ipython",
    "version": 3
   },
   "file_extension": ".py",
   "mimetype": "text/x-python",
   "name": "python",
   "nbconvert_exporter": "python",
   "pygments_lexer": "ipython3",
   "version": "3.12.2"
  }
 },
 "nbformat": 4,
 "nbformat_minor": 2
}
